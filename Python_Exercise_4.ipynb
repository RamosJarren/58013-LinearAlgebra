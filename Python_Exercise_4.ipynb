{
  "nbformat": 4,
  "nbformat_minor": 0,
  "metadata": {
    "colab": {
      "provenance": [],
      "authorship_tag": "ABX9TyOQQYHiH175/kMrvaujjRDY",
      "include_colab_link": true
    },
    "kernelspec": {
      "name": "python3",
      "display_name": "Python 3"
    },
    "language_info": {
      "name": "python"
    }
  },
  "cells": [
    {
      "cell_type": "markdown",
      "metadata": {
        "id": "view-in-github",
        "colab_type": "text"
      },
      "source": [
        "<a href=\"https://colab.research.google.com/github/RamosJarren/58013-LinearAlgebra/blob/main/Python_Exercise_4.ipynb\" target=\"_parent\"><img src=\"https://colab.research.google.com/assets/colab-badge.svg\" alt=\"Open In Colab\"/></a>"
      ]
    },
    {
      "cell_type": "markdown",
      "source": [
        "Create a program flowchart for your algorithm and explain it in your methodology. In your result, compare your answer to the expected output, visualize, and explain the resulting vector using a 3D plot."
      ],
      "metadata": {
        "id": "dj5DqWAvN8QN"
      }
    },
    {
      "cell_type": "code",
      "execution_count": 10,
      "metadata": {
        "colab": {
          "base_uri": "https://localhost:8080/"
        },
        "id": "pC0aDLWXMeNM",
        "outputId": "fe34ab9e-a4e5-4618-b315-60035dfedc6f"
      },
      "outputs": [
        {
          "output_type": "stream",
          "name": "stdout",
          "text": [
            "[-0.8  6.6 -1.1]\n",
            "[-0.4  6.2 -3.1]\n",
            "[-0.016  1.806  0.9  ]\n",
            "[-0.4  45.15  0.9 ]\n"
          ]
        }
      ],
      "source": [
        "import numpy as np\n",
        "\n",
        "A = np.array([-0.4,4.3,-0.6])\n",
        "B = np.array([-0.2,0.2,1])\n",
        "C = np.array([-0.2,2.1,-1.5])\n",
        "\n",
        "print(np.add(A,np.add(B,C)))\n",
        "print(np.subtract(A,np.subtract(B,C)))\n",
        "print(np.multiply(A,np.multiply(B,C)))\n",
        "print(np.divide(A,np.divide(B,C)))"
      ]
    }
  ]
}