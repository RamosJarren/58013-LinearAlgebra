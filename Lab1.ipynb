{
  "nbformat": 4,
  "nbformat_minor": 0,
  "metadata": {
    "colab": {
      "provenance": [],
      "authorship_tag": "ABX9TyM6QeH2rTVy0tcRX/Fd/tkG",
      "include_colab_link": true
    },
    "kernelspec": {
      "name": "python3",
      "display_name": "Python 3"
    },
    "language_info": {
      "name": "python"
    }
  },
  "cells": [
    {
      "cell_type": "markdown",
      "metadata": {
        "id": "view-in-github",
        "colab_type": "text"
      },
      "source": [
        "<a href=\"https://colab.research.google.com/github/RamosJarren/58013-LinearAlgebra/blob/main/Lab1.ipynb\" target=\"_parent\"><img src=\"https://colab.research.google.com/assets/colab-badge.svg\" alt=\"Open In Colab\"/></a>"
      ]
    },
    {
      "cell_type": "markdown",
      "source": [
        "A. Variable and Data Types"
      ],
      "metadata": {
        "id": "IKG61l_f6I4q"
      }
    },
    {
      "cell_type": "code",
      "execution_count": 1,
      "metadata": {
        "colab": {
          "base_uri": "https://localhost:8080/"
        },
        "id": "mVHgZR-i3q0U",
        "outputId": "3d85aa21-e1a6-43b0-d23d-1472eda89e52"
      },
      "outputs": [
        {
          "output_type": "execute_result",
          "data": {
            "text/plain": [
              "0"
            ]
          },
          "metadata": {},
          "execution_count": 1
        }
      ],
      "source": [
        "x = 1\n",
        "a,b = 0, -1\n",
        "\n",
        "type(x)\n",
        "\n",
        "y = 1.0\n",
        "type(y)\n",
        "\n",
        "x = float(x)\n",
        "type(x)\n",
        "\n",
        "s,t,u = \"0\", '1', 'one'\n",
        "type(s)\n",
        "\n",
        "s_int = int(s)\n",
        "s_int"
      ]
    },
    {
      "cell_type": "markdown",
      "source": [
        "B. Arithmetic Operations"
      ],
      "metadata": {
        "id": "InadM9M36XBR"
      }
    },
    {
      "cell_type": "code",
      "source": [
        "a,b,c,d = 2.0, -0.5, 0, -32\n",
        "\n",
        "### Addition\n",
        "S = a+b\n",
        "S\n",
        "\n",
        "### Subtraction\n",
        "D = b-d\n",
        "D\n",
        "\n",
        "### Multiplication\n",
        "P = a*d\n",
        "P\n",
        "\n",
        "### Division\n",
        "Q = c/a\n",
        "Q\n",
        "\n",
        "### Exponentiation\n",
        "E = a**b\n",
        "E\n",
        "\n",
        "### Modulo\n",
        "mod = d%a\n",
        "mod"
      ],
      "metadata": {
        "colab": {
          "base_uri": "https://localhost:8080/"
        },
        "id": "2fzIBnoS6ZyI",
        "outputId": "9b2c4d19-cde8-4822-97e3-b664c064eee5"
      },
      "execution_count": 2,
      "outputs": [
        {
          "output_type": "execute_result",
          "data": {
            "text/plain": [
              "0.0"
            ]
          },
          "metadata": {},
          "execution_count": 2
        }
      ]
    },
    {
      "cell_type": "markdown",
      "source": [
        "C. Assignment Operations"
      ],
      "metadata": {
        "id": "DsLwt_Iu6sBo"
      }
    },
    {
      "cell_type": "code",
      "source": [
        "G, H, J, K = 0, 100, 2, 2\n",
        "\n",
        "G += a\n",
        "G\n",
        "\n",
        "H -= d\n",
        "\n",
        "J *= 2\n",
        "J\n",
        "\n",
        "K **= 2\n",
        "K"
      ],
      "metadata": {
        "colab": {
          "base_uri": "https://localhost:8080/"
        },
        "id": "YiXJ1uNM6slg",
        "outputId": "bf4b2ba9-469c-4458-d635-42c0427bc33a"
      },
      "execution_count": 4,
      "outputs": [
        {
          "output_type": "execute_result",
          "data": {
            "text/plain": [
              "4"
            ]
          },
          "metadata": {},
          "execution_count": 4
        }
      ]
    },
    {
      "cell_type": "markdown",
      "source": [
        "D. Comparators"
      ],
      "metadata": {
        "id": "-XXvwCp-65IQ"
      }
    },
    {
      "cell_type": "code",
      "source": [
        "res_1, res_2, res_3 = 1, 2.0, \"1\"\n",
        "true_val = 1.0\n",
        "\n",
        "## Equality\n",
        "res_1 == true_val\n",
        "\n",
        "## Non-equality\n",
        "res_2 != true_val\n",
        "\n",
        "## Inequality\n",
        "t1 = res_1 > res_2\n",
        "t2 = res_1 < res_2/2\n",
        "t3 = res_1 >= res_2/2\n",
        "t4 = res_1 <= res_2\n",
        "t1"
      ],
      "metadata": {
        "colab": {
          "base_uri": "https://localhost:8080/"
        },
        "id": "Ca_1WumK681f",
        "outputId": "10649233-851f-49b1-9a4e-ba8f9ecb2f7c"
      },
      "execution_count": 5,
      "outputs": [
        {
          "output_type": "execute_result",
          "data": {
            "text/plain": [
              "False"
            ]
          },
          "metadata": {},
          "execution_count": 5
        }
      ]
    },
    {
      "cell_type": "markdown",
      "source": [
        "E. Logical"
      ],
      "metadata": {
        "id": "Fc8F7NyA7HL3"
      }
    },
    {
      "cell_type": "code",
      "source": [
        "res_1 == true_val\n",
        "\n",
        "res_1 is true_val\n",
        "\n",
        "res_1 is not true_val\n",
        "\n",
        "p, q = True, False\n",
        "conj = p and q\n",
        "conj\n",
        "\n",
        "p, q = True, False\n",
        "disj = p or q\n",
        "disj\n",
        "\n",
        "p, q = True, False\n",
        "nand = not(p and q)\n",
        "nand\n",
        "\n",
        "p, q = True, False\n",
        "xor = (not p and q) or (p and not q)\n",
        "xor"
      ],
      "metadata": {
        "colab": {
          "base_uri": "https://localhost:8080/"
        },
        "id": "o-isma-x7Jin",
        "outputId": "076d768b-a672-47a2-8d9a-acb0a8b2877e"
      },
      "execution_count": 6,
      "outputs": [
        {
          "output_type": "execute_result",
          "data": {
            "text/plain": [
              "True"
            ]
          },
          "metadata": {},
          "execution_count": 6
        }
      ]
    },
    {
      "cell_type": "markdown",
      "source": [
        "F. Input and Output Operations"
      ],
      "metadata": {
        "id": "F9li2LjZ7bxH"
      }
    },
    {
      "cell_type": "code",
      "source": [
        "print(\"Hello World\")\n",
        "\n",
        "cnt = 1\n",
        "\n",
        "string = \"Hello World\"\n",
        "print(string, \", Current run count is:\", cnt)\n",
        "cnt += 1\n",
        "\n",
        "print(f\"{string}, Current count is: {cnt}\")\n",
        "\n",
        "sem_grade = 82.243564657461234\n",
        "name = \"\"\n",
        "print(\"Hello {}, your semestral grade is: {}\".format(name, sem_grade))\n",
        "\n",
        "w_pg, w_mg, w_fg = 0.3, 0.3, 0.4\n",
        "print(\"The weights of your semestral grades are:\\\n",
        "\\n\\t{:.2%} for Prelims\\\n",
        "\\n\\t{:.2%} for Midterms, and\\\n",
        "\\n\\t{:.2%} for Finals.\".format(w_pg, w_mg, w_fg))\n",
        "\n",
        "x = input(\"enter a number: \")\n",
        "x\n",
        "\n",
        "name = input(\"Kimi no nawa: \")\n",
        "pg = input(\"Enter prelim grade: \")\n",
        "mg = input(\"Enter midterm grade: \")\n",
        "fg = input(\"Enter finals grade: \")\n",
        "sem_grade = None\n",
        "print(\"Hello {}, your semestral grade is: {}\".format(name, sem_grade))"
      ],
      "metadata": {
        "colab": {
          "base_uri": "https://localhost:8080/"
        },
        "id": "J9pXO99t7dwP",
        "outputId": "876ba2e7-c14c-41a2-f263-14ab7a1f7cde"
      },
      "execution_count": 17,
      "outputs": [
        {
          "output_type": "stream",
          "name": "stdout",
          "text": [
            "Hello World\n",
            "Hello World , Current run count is: 1\n",
            "Hello World, Current count is: 2\n",
            "Hello , your semestral grade is: 82.24356465746123\n",
            "The weights of your semestral grades are:\n",
            "\t30.00% for Prelims\n",
            "\t30.00% for Midterms, and\n",
            "\t40.00% for Finals.\n",
            "enter a number: 3\n",
            "Kimi no nawa: Ramos\n",
            "Enter prelim grade: 88\n",
            "Enter midterm grade: 85\n",
            "Enter finals grade: 90\n",
            "Hello Ramos, your semestral grade is: None\n"
          ]
        }
      ]
    },
    {
      "cell_type": "markdown",
      "source": [
        "G. Looping Statements\n"
      ],
      "metadata": {
        "id": "TRU42BEw76P_"
      }
    },
    {
      "cell_type": "code",
      "source": [
        "## while loops\n",
        "i, j = 0, 10\n",
        "while(i<=j):\n",
        "  print(f\"{i}\\t|\\t{j}\")\n",
        "  i+=1\n",
        "\n",
        "# for(int i=0; i<10; i++){\n",
        "# printf(i)\n",
        "# }\n",
        "\n",
        "i=0\n",
        "for i in range(10):\n",
        "  print(i)"
      ],
      "metadata": {
        "colab": {
          "base_uri": "https://localhost:8080/"
        },
        "id": "ytC3aQs28C6O",
        "outputId": "50239a8b-4d01-4844-d149-e013fcf8d7f1"
      },
      "execution_count": 14,
      "outputs": [
        {
          "output_type": "stream",
          "name": "stdout",
          "text": [
            "0\t|\t10\n",
            "1\t|\t10\n",
            "2\t|\t10\n",
            "3\t|\t10\n",
            "4\t|\t10\n",
            "5\t|\t10\n",
            "6\t|\t10\n",
            "7\t|\t10\n",
            "8\t|\t10\n",
            "9\t|\t10\n",
            "10\t|\t10\n",
            "0\n",
            "1\n",
            "2\n",
            "3\n",
            "4\n",
            "5\n",
            "6\n",
            "7\n",
            "8\n",
            "9\n"
          ]
        }
      ]
    },
    {
      "cell_type": "markdown",
      "source": [
        "H. Flow Control"
      ],
      "metadata": {
        "id": "BjTkZKsc8bzX"
      }
    },
    {
      "cell_type": "code",
      "source": [
        "###Condition Statements\n",
        "numeral1, numeral2 = 12, 12\n",
        "if(numeral1 == numeral2):\n",
        "  print(\"Yey\")\n",
        "elif(numeral1>numeral2):\n",
        "  print(\"Hoho\")\n",
        "else:\n",
        "  print(\"Aww\")\n",
        "print(\"Hip hip\")"
      ],
      "metadata": {
        "colab": {
          "base_uri": "https://localhost:8080/"
        },
        "id": "YAu3bYbG8fH_",
        "outputId": "33b72c5e-d276-4432-f8e9-42ccad740b60"
      },
      "execution_count": 10,
      "outputs": [
        {
          "output_type": "stream",
          "name": "stdout",
          "text": [
            "Yey\n",
            "Hip hip\n"
          ]
        }
      ]
    },
    {
      "cell_type": "markdown",
      "source": [
        "I. Functions"
      ],
      "metadata": {
        "id": "qbTxVi1E8qoe"
      }
    },
    {
      "cell_type": "code",
      "source": [
        "# void DeleteUser(int userid){\n",
        "# delete(userid);\n",
        "# }\n",
        "\n",
        "def delete_user (userid):\n",
        "  print(\"Successfully deleted user: {}\".format(userid))\n",
        "\n",
        "def delete_all_users ():\n",
        "  print(\"Successfully deleted all users\")"
      ],
      "metadata": {
        "id": "8m94ifKq8soW"
      },
      "execution_count": 16,
      "outputs": []
    }
  ]
}