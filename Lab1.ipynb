{
  "nbformat": 4,
  "nbformat_minor": 0,
  "metadata": {
    "colab": {
      "provenance": [],
      "authorship_tag": "ABX9TyM6QeH2rTVy0tcRX/Fd/tkG",
      "include_colab_link": true
    },
    "kernelspec": {
      "name": "python3",
      "display_name": "Python 3"
    },
    "language_info": {
      "name": "python"
    }
  },
  "cells": [
    {
      "cell_type": "markdown",
      "metadata": {
        "id": "view-in-github",
        "colab_type": "text"
      },
      "source": [
        "<a href=\"https://colab.research.google.com/github/RamosJarren/58013-LinearAlgebra/blob/main/Lab1.ipynb\" target=\"_parent\"><img src=\"https://colab.research.google.com/assets/colab-badge.svg\" alt=\"Open In Colab\"/></a>"
      ]
    },
    {
      "cell_type": "markdown",
      "source": [
        "A. Variable and Data Types"
      ],
      "metadata": {
        "id": "IKG61l_f6I4q"
      }
    },
    {
      "cell_type": "code",
      "execution_count": 1,
      "metadata": {
        "colab": {
          "base_uri": "https://localhost:8080/"
        },
        "id": "mVHgZR-i3q0U",
        "outputId": "da94450d-8d3e-413c-b4cf-7445dc4ccf30"
      },
      "outputs": [
        {
          "output_type": "execute_result",
          "data": {
            "text/plain": [
              "0"
            ]
          },
          "metadata": {},
          "execution_count": 1
        }
      ],
      "source": [
        "x = 1\n",
        "a,b = 0, -1\n",
        "\n",
        "type(x)\n",
        "\n",
        "y = 1.0\n",
        "type(y)\n",
        "\n",
        "x = float(x)\n",
        "type(x)\n",
        "\n",
        "s,t,u = \"0\", '1', 'one'\n",
        "type(s)\n",
        "\n",
        "s_int = int(s)\n",
        "s_int"
      ]
    },
    {
      "cell_type": "markdown",
      "source": [
        "B. Arithmetic Operations"
      ],
      "metadata": {
        "id": "InadM9M36XBR"
      }
    },
    {
      "cell_type": "code",
      "source": [
        "a,b,c,d = 2.0, -0.5, 0, -32\n",
        "\n",
        "### Addition\n",
        "S = a+b\n",
        "S\n",
        "\n",
        "### Subtraction\n",
        "D = b-d\n",
        "D\n",
        "\n",
        "### Multiplication\n",
        "P = a*d\n",
        "P\n",
        "\n",
        "### Division\n",
        "Q = c/a\n",
        "Q\n",
        "\n",
        "### Exponentiation\n",
        "E = a**b\n",
        "E\n",
        "\n",
        "### Modulo\n",
        "mod = d%a\n",
        "mod"
      ],
      "metadata": {
        "colab": {
          "base_uri": "https://localhost:8080/"
        },
        "id": "2fzIBnoS6ZyI",
        "outputId": "f4459cfd-65d3-4941-f40f-c011016efa0a"
      },
      "execution_count": 2,
      "outputs": [
        {
          "output_type": "execute_result",
          "data": {
            "text/plain": [
              "0.0"
            ]
          },
          "metadata": {},
          "execution_count": 2
        }
      ]
    },
    {
      "cell_type": "markdown",
      "source": [
        "C. Assignment Operations"
      ],
      "metadata": {
        "id": "DsLwt_Iu6sBo"
      }
    },
    {
      "cell_type": "code",
      "source": [
        "G, H, J, K = 0, 100, 2, 2\n",
        "\n",
        "G += a\n",
        "G\n",
        "\n",
        "H -= d\n",
        "\n",
        "J *= 2\n",
        "J\n",
        "\n",
        "K **= 2\n",
        "K"
      ],
      "metadata": {
        "colab": {
          "base_uri": "https://localhost:8080/"
        },
        "id": "YiXJ1uNM6slg",
        "outputId": "55bdc27f-5d41-43de-b2f1-36d0a6855ddf"
      },
      "execution_count": 3,
      "outputs": [
        {
          "output_type": "execute_result",
          "data": {
            "text/plain": [
              "4"
            ]
          },
          "metadata": {},
          "execution_count": 3
        }
      ]
    },
    {
      "cell_type": "markdown",
      "source": [
        "D. Comparators"
      ],
      "metadata": {
        "id": "-XXvwCp-65IQ"
      }
    },
    {
      "cell_type": "code",
      "source": [
        "res_1, res_2, res_3 = 1, 2.0, \"1\"\n",
        "true_val = 1.0\n",
        "\n",
        "## Equality\n",
        "res_1 == true_val\n",
        "\n",
        "## Non-equality\n",
        "res_2 != true_val\n",
        "\n",
        "## Inequality\n",
        "t1 = res_1 > res_2\n",
        "t2 = res_1 < res_2/2\n",
        "t3 = res_1 >= res_2/2\n",
        "t4 = res_1 <= res_2\n",
        "t1"
      ],
      "metadata": {
        "colab": {
          "base_uri": "https://localhost:8080/"
        },
        "id": "Ca_1WumK681f",
        "outputId": "3753cfa0-fce9-40eb-c040-db2704a50710"
      },
      "execution_count": 4,
      "outputs": [
        {
          "output_type": "execute_result",
          "data": {
            "text/plain": [
              "False"
            ]
          },
          "metadata": {},
          "execution_count": 4
        }
      ]
    },
    {
      "cell_type": "markdown",
      "source": [
        "E. Logical"
      ],
      "metadata": {
        "id": "Fc8F7NyA7HL3"
      }
    },
    {
      "cell_type": "code",
      "source": [
        "res_1 == true_val\n",
        "\n",
        "res_1 is true_val\n",
        "\n",
        "res_1 is not true_val\n",
        "\n",
        "p, q = True, False\n",
        "conj = p and q\n",
        "conj\n",
        "\n",
        "p, q = True, False\n",
        "disj = p or q\n",
        "disj\n",
        "\n",
        "p, q = True, False\n",
        "nand = not(p and q)\n",
        "nand\n",
        "\n",
        "p, q = True, False\n",
        "xor = (not p and q) or (p and not q)\n",
        "xor"
      ],
      "metadata": {
        "colab": {
          "base_uri": "https://localhost:8080/"
        },
        "id": "o-isma-x7Jin",
        "outputId": "4408373b-8138-4692-b86d-f15224f11d76"
      },
      "execution_count": 5,
      "outputs": [
        {
          "output_type": "execute_result",
          "data": {
            "text/plain": [
              "True"
            ]
          },
          "metadata": {},
          "execution_count": 5
        }
      ]
    },
    {
      "cell_type": "markdown",
      "source": [
        "F. Input and Output Operations"
      ],
      "metadata": {
        "id": "F9li2LjZ7bxH"
      }
    },
    {
      "cell_type": "code",
      "source": [
        "print(\"Hello World\")\n",
        "\n",
        "cnt = 1\n",
        "\n",
        "string = \"Hello World\"\n",
        "print(string, \", Current run count is:\", cnt)\n",
        "cnt += 1\n",
        "\n",
        "print(f\"{string}, Current count is: {cnt}\")\n",
        "\n",
        "sem_grade = 82.243564657461234\n",
        "name = \"\"\n",
        "print(\"Hello {}, your semestral grade is: {}\".format(name, sem_grade))\n",
        "\n",
        "w_pg, w_mg, w_fg = 0.3, 0.3, 0.4\n",
        "print(\"The weights of your semestral grades are:\\\n",
        "\\n\\t{:.2%} for Prelims\\\n",
        "\\n\\t{:.2%} for Midterms, and\\\n",
        "\\n\\t{:.2%} for Finals.\".format(w_pg, w_mg, w_fg))\n",
        "\n",
        "x = input(\"enter a number: \")\n",
        "x\n",
        "\n",
        "name = input(\"Kimi no nawa: \")\n",
        "pg = input(\"Enter prelim grade: \")\n",
        "mg = input(\"Enter midterm grade: \")\n",
        "fg = input(\"Enter finals grade: \")\n",
        "sem_grade = None\n",
        "print(\"Hello {}, your semestral grade is: {}\".format(name, sem_grade))"
      ],
      "metadata": {
        "colab": {
          "base_uri": "https://localhost:8080/",
          "height": 529
        },
        "id": "J9pXO99t7dwP",
        "outputId": "344de5ab-96f2-4934-e675-dda68d4e274f"
      },
      "execution_count": 7,
      "outputs": [
        {
          "output_type": "stream",
          "name": "stdout",
          "text": [
            "Hello World\n",
            "Hello World , Current run count is: 1\n",
            "Hello World, Current count is: 2\n",
            "Hello , your semestral grade is: 82.24356465746123\n",
            "The weights of your semestral grades are:\n",
            "\t30.00% for Prelims\n",
            "\t30.00% for Midterms, and\n",
            "\t40.00% for Finals.\n"
          ]
        },
        {
          "output_type": "error",
          "ename": "KeyboardInterrupt",
          "evalue": "ignored",
          "traceback": [
            "\u001b[0;31m---------------------------------------------------------------------------\u001b[0m",
            "\u001b[0;31mKeyboardInterrupt\u001b[0m                         Traceback (most recent call last)",
            "\u001b[0;32m<ipython-input-7-990abf4b50c1>\u001b[0m in \u001b[0;36m<cell line: 21>\u001b[0;34m()\u001b[0m\n\u001b[1;32m     19\u001b[0m \\n\\t{:.2%} for Finals.\".format(w_pg, w_mg, w_fg))\n\u001b[1;32m     20\u001b[0m \u001b[0;34m\u001b[0m\u001b[0m\n\u001b[0;32m---> 21\u001b[0;31m \u001b[0mx\u001b[0m \u001b[0;34m=\u001b[0m \u001b[0minput\u001b[0m\u001b[0;34m(\u001b[0m\u001b[0;34m\"enter a number: \"\u001b[0m\u001b[0;34m)\u001b[0m\u001b[0;34m\u001b[0m\u001b[0;34m\u001b[0m\u001b[0m\n\u001b[0m\u001b[1;32m     22\u001b[0m \u001b[0mx\u001b[0m\u001b[0;34m\u001b[0m\u001b[0;34m\u001b[0m\u001b[0m\n\u001b[1;32m     23\u001b[0m \u001b[0;34m\u001b[0m\u001b[0m\n",
            "\u001b[0;32m/usr/local/lib/python3.10/dist-packages/ipykernel/kernelbase.py\u001b[0m in \u001b[0;36mraw_input\u001b[0;34m(self, prompt)\u001b[0m\n\u001b[1;32m    849\u001b[0m                 \u001b[0;34m\"raw_input was called, but this frontend does not support input requests.\"\u001b[0m\u001b[0;34m\u001b[0m\u001b[0;34m\u001b[0m\u001b[0m\n\u001b[1;32m    850\u001b[0m             )\n\u001b[0;32m--> 851\u001b[0;31m         return self._input_request(str(prompt),\n\u001b[0m\u001b[1;32m    852\u001b[0m             \u001b[0mself\u001b[0m\u001b[0;34m.\u001b[0m\u001b[0m_parent_ident\u001b[0m\u001b[0;34m,\u001b[0m\u001b[0;34m\u001b[0m\u001b[0;34m\u001b[0m\u001b[0m\n\u001b[1;32m    853\u001b[0m             \u001b[0mself\u001b[0m\u001b[0;34m.\u001b[0m\u001b[0m_parent_header\u001b[0m\u001b[0;34m,\u001b[0m\u001b[0;34m\u001b[0m\u001b[0;34m\u001b[0m\u001b[0m\n",
            "\u001b[0;32m/usr/local/lib/python3.10/dist-packages/ipykernel/kernelbase.py\u001b[0m in \u001b[0;36m_input_request\u001b[0;34m(self, prompt, ident, parent, password)\u001b[0m\n\u001b[1;32m    893\u001b[0m             \u001b[0;32mexcept\u001b[0m \u001b[0mKeyboardInterrupt\u001b[0m\u001b[0;34m:\u001b[0m\u001b[0;34m\u001b[0m\u001b[0;34m\u001b[0m\u001b[0m\n\u001b[1;32m    894\u001b[0m                 \u001b[0;31m# re-raise KeyboardInterrupt, to truncate traceback\u001b[0m\u001b[0;34m\u001b[0m\u001b[0;34m\u001b[0m\u001b[0m\n\u001b[0;32m--> 895\u001b[0;31m                 \u001b[0;32mraise\u001b[0m \u001b[0mKeyboardInterrupt\u001b[0m\u001b[0;34m(\u001b[0m\u001b[0;34m\"Interrupted by user\"\u001b[0m\u001b[0;34m)\u001b[0m \u001b[0;32mfrom\u001b[0m \u001b[0;32mNone\u001b[0m\u001b[0;34m\u001b[0m\u001b[0;34m\u001b[0m\u001b[0m\n\u001b[0m\u001b[1;32m    896\u001b[0m             \u001b[0;32mexcept\u001b[0m \u001b[0mException\u001b[0m \u001b[0;32mas\u001b[0m \u001b[0me\u001b[0m\u001b[0;34m:\u001b[0m\u001b[0;34m\u001b[0m\u001b[0;34m\u001b[0m\u001b[0m\n\u001b[1;32m    897\u001b[0m                 \u001b[0mself\u001b[0m\u001b[0;34m.\u001b[0m\u001b[0mlog\u001b[0m\u001b[0;34m.\u001b[0m\u001b[0mwarning\u001b[0m\u001b[0;34m(\u001b[0m\u001b[0;34m\"Invalid Message:\"\u001b[0m\u001b[0;34m,\u001b[0m \u001b[0mexc_info\u001b[0m\u001b[0;34m=\u001b[0m\u001b[0;32mTrue\u001b[0m\u001b[0;34m)\u001b[0m\u001b[0;34m\u001b[0m\u001b[0;34m\u001b[0m\u001b[0m\n",
            "\u001b[0;31mKeyboardInterrupt\u001b[0m: Interrupted by user"
          ]
        }
      ]
    },
    {
      "cell_type": "markdown",
      "source": [
        "G. Looping Statements\n"
      ],
      "metadata": {
        "id": "TRU42BEw76P_"
      }
    },
    {
      "cell_type": "code",
      "source": [
        "## while loops\n",
        "i, j = 0, 10\n",
        "while(i<=j):\n",
        "  print(f\"{i}\\t|\\t{j}\")\n",
        "  i+=1\n",
        "\n",
        "# for(int i=0; i<10; i++){\n",
        "# printf(i)\n",
        "# }\n",
        "\n",
        "i=0\n",
        "for i in range(10):\n",
        "  print(i)"
      ],
      "metadata": {
        "colab": {
          "base_uri": "https://localhost:8080/"
        },
        "id": "ytC3aQs28C6O",
        "outputId": "da8eac4f-9915-476d-b4e4-98c38d9295e3"
      },
      "execution_count": 8,
      "outputs": [
        {
          "output_type": "stream",
          "name": "stdout",
          "text": [
            "0\t|\t10\n",
            "1\t|\t10\n",
            "2\t|\t10\n",
            "3\t|\t10\n",
            "4\t|\t10\n",
            "5\t|\t10\n",
            "6\t|\t10\n",
            "7\t|\t10\n",
            "8\t|\t10\n",
            "9\t|\t10\n",
            "10\t|\t10\n",
            "0\n",
            "1\n",
            "2\n",
            "3\n",
            "4\n",
            "5\n",
            "6\n",
            "7\n",
            "8\n",
            "9\n"
          ]
        }
      ]
    },
    {
      "cell_type": "markdown",
      "source": [
        "H. Flow Control"
      ],
      "metadata": {
        "id": "BjTkZKsc8bzX"
      }
    },
    {
      "cell_type": "code",
      "source": [
        "###Condition Statements\n",
        "numeral1, numeral2 = 12, 12\n",
        "if(numeral1 == numeral2):\n",
        "  print(\"Yey\")\n",
        "elif(numeral1>numeral2):\n",
        "  print(\"Hoho\")\n",
        "else:\n",
        "  print(\"Aww\")\n",
        "print(\"Hip hip\")"
      ],
      "metadata": {
        "colab": {
          "base_uri": "https://localhost:8080/"
        },
        "id": "YAu3bYbG8fH_",
        "outputId": "a002628a-d4ea-461c-eace-bf3ada00a91e"
      },
      "execution_count": 9,
      "outputs": [
        {
          "output_type": "stream",
          "name": "stdout",
          "text": [
            "Yey\n",
            "Hip hip\n"
          ]
        }
      ]
    },
    {
      "cell_type": "markdown",
      "source": [
        "I. Functions"
      ],
      "metadata": {
        "id": "qbTxVi1E8qoe"
      }
    },
    {
      "cell_type": "code",
      "source": [
        "# void DeleteUser(int userid){\n",
        "# delete(userid);\n",
        "# }\n",
        "\n",
        "def delete_user (userid):\n",
        "  print(\"Successfully deleted user: {}\".format(userid))\n",
        "\n",
        "def delete_all_users ():\n",
        "  print(\"Successfully deleted all users\")"
      ],
      "metadata": {
        "id": "8m94ifKq8soW"
      },
      "execution_count": 11,
      "outputs": []
    }
  ]
}