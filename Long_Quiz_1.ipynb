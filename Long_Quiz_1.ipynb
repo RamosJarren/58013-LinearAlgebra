{
  "nbformat": 4,
  "nbformat_minor": 0,
  "metadata": {
    "colab": {
      "provenance": [],
      "authorship_tag": "ABX9TyOONO3/9nHWDzM4hDkiKBtL",
      "include_colab_link": true
    },
    "kernelspec": {
      "name": "python3",
      "display_name": "Python 3"
    },
    "language_info": {
      "name": "python"
    }
  },
  "cells": [
    {
      "cell_type": "markdown",
      "metadata": {
        "id": "view-in-github",
        "colab_type": "text"
      },
      "source": [
        "<a href=\"https://colab.research.google.com/github/RamosJarren/58013-LinearAlgebra/blob/main/Long_Quiz_1.ipynb\" target=\"_parent\"><img src=\"https://colab.research.google.com/assets/colab-badge.svg\" alt=\"Open In Colab\"/></a>"
      ]
    },
    {
      "cell_type": "markdown",
      "source": [
        "Problem 1. Consider the four matrices, (20 points each)\n",
        "\n",
        "a. AB\n",
        "\n",
        "b. D + D\n",
        "\n",
        "c. 2C"
      ],
      "metadata": {
        "id": "aiDNC7bxgTEz"
      }
    },
    {
      "cell_type": "code",
      "execution_count": 9,
      "metadata": {
        "colab": {
          "base_uri": "https://localhost:8080/"
        },
        "id": "HR-paIoPgPrZ",
        "outputId": "6942aa63-ff86-4d54-9c2e-75ee55650722"
      },
      "outputs": [
        {
          "output_type": "stream",
          "name": "stdout",
          "text": [
            "a. A * B\n",
            " [[22 28]\n",
            " [49 64]]\n",
            "b. D + D\n",
            " [[2 4]\n",
            " [6 8]]\n",
            "c. 2C\n",
            " [[ 2  4  6]\n",
            " [ 8 10 12]\n",
            " [14 16 18]]\n"
          ]
        }
      ],
      "source": [
        "import numpy as np\n",
        "\n",
        "A = np.array([[1, 2, 3], [4, 5, 6]])\n",
        "B = np.array([[1, 2], [3, 4], [5, 6]])\n",
        "C = np.array([[1, 2, 3], [4, 5, 6], [7, 8, 9]])\n",
        "D = np.array([[1, 2], [3, 4]])\n",
        "\n",
        "print(\"a. A * B\\n\", np.dot(A, B))\n",
        "print(\"b. D + D\\n\", np.add(D, D))\n",
        "print(\"c. 2C\\n\", 2 * C)"
      ]
    },
    {
      "cell_type": "markdown",
      "source": [
        "Problem 2. Find the cross-product of matrices, A = [2,7,4] and\n",
        "\n",
        "B = [3,9,8]. Show your solutions using Python program . (40 points)"
      ],
      "metadata": {
        "id": "pOQ9xAIugd54"
      }
    },
    {
      "cell_type": "code",
      "source": [
        "A = np.array([2, 7, 4])\n",
        "B = np.array([3, 9, 8])\n",
        "\n",
        "print(\"d. A x B\\n\", np.cross(A, B))"
      ],
      "metadata": {
        "colab": {
          "base_uri": "https://localhost:8080/"
        },
        "id": "N6f1XwRGggeF",
        "outputId": "7b48188d-a2d9-4cc7-dfaa-c412a055bbc5"
      },
      "execution_count": 10,
      "outputs": [
        {
          "output_type": "stream",
          "name": "stdout",
          "text": [
            "d. A x B\n",
            " [20 -4 -3]\n"
          ]
        }
      ]
    },
    {
      "cell_type": "markdown",
      "source": [
        "A = [2, 7, 4]   B = [3, 9, 8]\n",
        "\n",
        "Ax = 2, Ay = 7, Az = 4\n",
        "\n",
        "Bx = 7, By = 9, Bz = 8\n",
        "\n",
        "x = (7 * 8) - (4 * 9) = 56 - 36 = 20\n",
        "\n",
        "y = (4 * 3) - (2 * 8) = 12 - 16 = -4\n",
        "\n",
        "x = (2 * 9) - (7 * 3) = 18 - 21 = -3\n",
        "\n",
        "[20, -4, -3]"
      ],
      "metadata": {
        "id": "wWChFwc_kbHN"
      }
    }
  ]
}