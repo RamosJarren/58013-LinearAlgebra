{
  "nbformat": 4,
  "nbformat_minor": 0,
  "metadata": {
    "colab": {
      "provenance": [],
      "authorship_tag": "ABX9TyM0O5GNel2ZOL9WqQqRA7Ak",
      "include_colab_link": true
    },
    "kernelspec": {
      "name": "python3",
      "display_name": "Python 3"
    },
    "language_info": {
      "name": "python"
    }
  },
  "cells": [
    {
      "cell_type": "markdown",
      "metadata": {
        "id": "view-in-github",
        "colab_type": "text"
      },
      "source": [
        "<a href=\"https://colab.research.google.com/github/RamosJarren/58013-LinearAlgebra/blob/main/Python_Exercise_9.ipynb\" target=\"_parent\"><img src=\"https://colab.research.google.com/assets/colab-badge.svg\" alt=\"Open In Colab\"/></a>"
      ]
    },
    {
      "cell_type": "code",
      "execution_count": 1,
      "metadata": {
        "id": "t_a1pNGP5jl7"
      },
      "outputs": [],
      "source": [
        "import numpy as np\n",
        "import matplotlib.pyplot as plt\n",
        "%matplotlib inline"
      ]
    },
    {
      "cell_type": "code",
      "source": [
        "A = np.array([\n",
        "    [1,4],\n",
        "    [0,3]\n",
        "])\n",
        "np.linalg.det(A)"
      ],
      "metadata": {
        "colab": {
          "base_uri": "https://localhost:8080/"
        },
        "id": "QUoZnNp45rtM",
        "outputId": "4daa917a-2442-4e1b-f594-fdca53a98c19"
      },
      "execution_count": 2,
      "outputs": [
        {
          "output_type": "execute_result",
          "data": {
            "text/plain": [
              "3.0000000000000004"
            ]
          },
          "metadata": {},
          "execution_count": 2
        }
      ]
    },
    {
      "cell_type": "code",
      "source": [
        "B = np.array([\n",
        "    [1,3,5,6],\n",
        "    [0,3,1,3],\n",
        "    [3,1,8,2],\n",
        "    [5,2,6,8]\n",
        "])\n",
        "np.linalg.det(B)"
      ],
      "metadata": {
        "colab": {
          "base_uri": "https://localhost:8080/"
        },
        "id": "CycpBj7_5wyR",
        "outputId": "322f4622-08ca-40c9-d6ac-7099aa381a22"
      },
      "execution_count": 3,
      "outputs": [
        {
          "output_type": "execute_result",
          "data": {
            "text/plain": [
              "-235.0000000000002"
            ]
          },
          "metadata": {},
          "execution_count": 3
        }
      ]
    },
    {
      "cell_type": "markdown",
      "source": [
        "Prove and implement the remaining 6 matrix multiplication properties. You may create your own matrices in which their shapes should not be lower than (3,3). In your methodology, create individual flowcharts for each property and discuss the property you would then present your proofs or validity of your implementation in the results section by comparing your result to present functions from NumPy."
      ],
      "metadata": {
        "id": "Amkfjxal51Nr"
      }
    },
    {
      "cell_type": "code",
      "source": [
        "#Commutative\n",
        "C = np.array([\n",
        "    [1,0,7],\n",
        "    [3,6,1],\n",
        "    [9,0,3]\n",
        "])\n",
        "D = np.array([\n",
        "    [3,1,9],\n",
        "    [1,2,1],\n",
        "    [6,3,7]\n",
        "])\n",
        "print(np.dot(C,D))\n",
        "print(np.dot(D,C))"
      ],
      "metadata": {
        "colab": {
          "base_uri": "https://localhost:8080/"
        },
        "id": "HeVuRKDR52uJ",
        "outputId": "de3b58ff-f0d7-477c-abfa-18f6fa3d3cbf"
      },
      "execution_count": 26,
      "outputs": [
        {
          "output_type": "stream",
          "name": "stdout",
          "text": [
            "[[ 45  22  58]\n",
            " [ 21  18  40]\n",
            " [ 45  18 102]]\n",
            "[[87  6 49]\n",
            " [16 12 12]\n",
            " [78 18 66]]\n"
          ]
        }
      ]
    },
    {
      "cell_type": "code",
      "source": [
        "#Associative\n",
        "E = np.array([\n",
        "    [1,0,6],\n",
        "    [1,2,4],\n",
        "    [9,4,8]\n",
        "])\n",
        "F = np.array([\n",
        "    [6,2,0],\n",
        "    [8,6,2],\n",
        "    [3,9,2]\n",
        "])\n",
        "G = np.array([\n",
        "    [2,4,8],\n",
        "    [3,2,9],\n",
        "    [8,9,1]\n",
        "])\n",
        "print(np.dot(E, np.dot(F,G)))\n",
        "print(np.dot(np.dot(E,F), G))"
      ],
      "metadata": {
        "colab": {
          "base_uri": "https://localhost:8080/"
        },
        "id": "iIFWis1Y_gYi",
        "outputId": "9f8e3ab3-e5e3-4e37-fc60-bd7d676a5550"
      },
      "execution_count": 27,
      "outputs": [
        {
          "output_type": "stream",
          "name": "stdout",
          "text": [
            "[[ 312  316  708]\n",
            " [ 314  344  734]\n",
            " [ 754  884 1930]]\n",
            "[[ 312  316  708]\n",
            " [ 314  344  734]\n",
            " [ 754  884 1930]]\n"
          ]
        }
      ]
    },
    {
      "cell_type": "code",
      "source": [
        "#Distributive\n",
        "H = np.array([\n",
        "    [6,0,6],\n",
        "    [8,6,7],\n",
        "    [0,8,4]\n",
        "])\n",
        "I = np.array([\n",
        "    [5,8,9],\n",
        "    [1,6,1],\n",
        "    [8,7,5]\n",
        "])\n",
        "J = np.array([\n",
        "    [2,4,2],\n",
        "    [4,8,1],\n",
        "    [8,3,6]\n",
        "])\n",
        "print(np.add(H, np.dot(I,J)))\n",
        "print(np.add(np.dot(H,I), J))"
      ],
      "metadata": {
        "colab": {
          "base_uri": "https://localhost:8080/"
        },
        "id": "-rwWPvD18LBQ",
        "outputId": "9a41f390-beaf-413f-f2d6-d17487efaca2"
      },
      "execution_count": 25,
      "outputs": [
        {
          "output_type": "stream",
          "name": "stdout",
          "text": [
            "[[120 111  78]\n",
            " [ 42  61  21]\n",
            " [ 84 111  57]]\n",
            "[[ 80  94  86]\n",
            " [106 157 114]\n",
            " [ 48  79  34]]\n"
          ]
        }
      ]
    },
    {
      "cell_type": "code",
      "source": [
        "#Identity\n",
        "K = np.array([\n",
        "    [2,5,6],\n",
        "    [3,0,6],\n",
        "    [8,6,3]\n",
        "])\n",
        "L = np.array([\n",
        "    [1,0,0],\n",
        "    [0,1,0],\n",
        "    [0,0,1]\n",
        "])\n",
        "print(np.dot(K,L))"
      ],
      "metadata": {
        "colab": {
          "base_uri": "https://localhost:8080/"
        },
        "id": "pSRPnbS79V7l",
        "outputId": "b108b3ac-5ad0-472a-cf19-b5586bd4c63a"
      },
      "execution_count": 29,
      "outputs": [
        {
          "output_type": "stream",
          "name": "stdout",
          "text": [
            "[[2 5 6]\n",
            " [3 0 6]\n",
            " [8 6 3]]\n"
          ]
        }
      ]
    },
    {
      "cell_type": "code",
      "source": [
        "#Zero\n",
        "M = np.array([\n",
        "    [2,5,6],\n",
        "    [3,0,6],\n",
        "    [8,6,3]\n",
        "])\n",
        "N = np.array([\n",
        "    [0,0,0],\n",
        "    [0,0,0],\n",
        "    [0,0,0]\n",
        "])\n",
        "print(np.dot(M,N))"
      ],
      "metadata": {
        "colab": {
          "base_uri": "https://localhost:8080/"
        },
        "id": "IKj0fl3E9zCo",
        "outputId": "86b45f07-0616-4964-f072-bdcc927b257d"
      },
      "execution_count": 30,
      "outputs": [
        {
          "output_type": "stream",
          "name": "stdout",
          "text": [
            "[[0 0 0]\n",
            " [0 0 0]\n",
            " [0 0 0]]\n"
          ]
        }
      ]
    },
    {
      "cell_type": "code",
      "source": [
        "#Dimension\n",
        "O = np.array([\n",
        "    [1,9,6],\n",
        "    [5,3,4]\n",
        "])\n",
        "P = np.array([\n",
        "    [1,3],\n",
        "    [3,2],\n",
        "    [9,7]\n",
        "])\n",
        "print(np.dot(O,P))\n",
        "print(np.dot(P,O))"
      ],
      "metadata": {
        "colab": {
          "base_uri": "https://localhost:8080/"
        },
        "id": "4xXpZFyq-E2u",
        "outputId": "16c955d9-b00c-45d6-bd02-e18a99df6738"
      },
      "execution_count": 31,
      "outputs": [
        {
          "output_type": "stream",
          "name": "stdout",
          "text": [
            "[[82 63]\n",
            " [50 49]]\n",
            "[[ 16  18  18]\n",
            " [ 13  33  26]\n",
            " [ 44 102  82]]\n"
          ]
        }
      ]
    }
  ]
}