{
  "nbformat": 4,
  "nbformat_minor": 0,
  "metadata": {
    "colab": {
      "provenance": [],
      "authorship_tag": "ABX9TyPkJ6pyXCgJTKzuOAB/1YIx",
      "include_colab_link": true
    },
    "kernelspec": {
      "name": "python3",
      "display_name": "Python 3"
    },
    "language_info": {
      "name": "python"
    }
  },
  "cells": [
    {
      "cell_type": "markdown",
      "metadata": {
        "id": "view-in-github",
        "colab_type": "text"
      },
      "source": [
        "<a href=\"https://colab.research.google.com/github/RamosJarren/58013-LinearAlgebra/blob/main/Python_Exercise_10.ipynb\" target=\"_parent\"><img src=\"https://colab.research.google.com/assets/colab-badge.svg\" alt=\"Open In Colab\"/></a>"
      ]
    },
    {
      "cell_type": "code",
      "execution_count": 2,
      "metadata": {
        "colab": {
          "base_uri": "https://localhost:8080/"
        },
        "id": "o8wxsQ0fCJRk",
        "outputId": "b4dc776b-afd3-445c-b181-a28ce7cc81ec"
      },
      "outputs": [
        {
          "output_type": "stream",
          "name": "stdout",
          "text": [
            "[[ 1.  1.  1.]\n",
            " [ 3. -2. -1.]\n",
            " [-1.  4.  2.]]\n",
            "(3, 3)\n",
            "[[ 1.]\n",
            " [ 4.]\n",
            " [-3.]]\n",
            "(3, 1)\n"
          ]
        }
      ],
      "source": [
        "import numpy as np\n",
        "\n",
        "X = np.array([\n",
        "    [1,1,1],\n",
        "    [3,-2,-1],\n",
        "    [-1,4,2]\n",
        "], dtype=float)\n",
        "Y = np.array([\n",
        "    [1],\n",
        "    [4],\n",
        "    [-3]\n",
        "],dtype=float)\n",
        "print(X)\n",
        "print(X.shape)\n",
        "print(Y)\n",
        "print(Y.shape)"
      ]
    },
    {
      "cell_type": "markdown",
      "source": [
        "So let's start off with an easy one. Let's say you have a bakery and you are purchasing supplies consisting of flour, yeast, and eggs from your supplier. For month 1 you bought a bakery promo that consists of 30 sacks of flour, 10 packs of yeast, and 120 eggs and you are charged for 12,500 pesos. For month two you bought a different bakery promo that consists of 40 sacks of flour, 20 packs of yeast, and 200 eggs then you are charged with 18,000 pesos. And then for month three you bought yet a different bakery promo that consists of 50 sacks of flour, 40 packs of yeast, and 360 eggs for 25,700 pesos. Now you are wondering if the promos are more cost-effective compared to buying them as a regular buyer, what could be the price of the flour per sack, yeast per pack, and one piece of egg?\n",
        "\n",
        "\tCreate a python program to solve for the price of flour per sack, yeast per pack, and one piece of egg.\n"
      ],
      "metadata": {
        "id": "lJpW8Fb1Cble"
      }
    },
    {
      "cell_type": "code",
      "source": [
        "import numpy as np\n",
        "\n",
        "X = np.array([\n",
        "    [30, 10, 120],\n",
        "    [40, 20, 200],\n",
        "    [50, 40, 360]\n",
        "], dtype=float)\n",
        "\n",
        "Y = np.array([\n",
        "    [12500],\n",
        "    [18000],\n",
        "    [25700]\n",
        "], dtype=float)\n",
        "\n",
        "invertX = np.linalg.inv(X)\n",
        "result = np.dot(invertX, Y)\n",
        "\n",
        "flour = result[0][0]\n",
        "yeast = result[1][0]\n",
        "egg = result[2][0]\n",
        "\n",
        "print(\"Price of Flour per Sack: ₱\", flour)\n",
        "print(\"Price of Yeast per Sack: ₱\", yeast)\n",
        "print(\"Price of One Egg: ₱\", egg)\n"
      ],
      "metadata": {
        "colab": {
          "base_uri": "https://localhost:8080/"
        },
        "id": "vFqyfLUSCcOe",
        "outputId": "8d075edc-b1d3-4bfc-abad-00597f46586f"
      },
      "execution_count": 8,
      "outputs": [
        {
          "output_type": "stream",
          "name": "stdout",
          "text": [
            "Price of Flour per Sack: ₱ 329.99999999999864\n",
            "Price of Yeast per Sack: ₱ 139.99999999999844\n",
            "Price of One Egg: ₱ 10.000000000000059\n"
          ]
        }
      ]
    }
  ]
}