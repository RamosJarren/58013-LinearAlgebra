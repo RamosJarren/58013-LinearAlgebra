{
  "nbformat": 4,
  "nbformat_minor": 0,
  "metadata": {
    "colab": {
      "provenance": [],
      "authorship_tag": "ABX9TyPIe8pQWDKGRy9M2pTgy9Fe",
      "include_colab_link": true
    },
    "kernelspec": {
      "name": "python3",
      "display_name": "Python 3"
    },
    "language_info": {
      "name": "python"
    }
  },
  "cells": [
    {
      "cell_type": "markdown",
      "metadata": {
        "id": "view-in-github",
        "colab_type": "text"
      },
      "source": [
        "<a href=\"https://colab.research.google.com/github/RamosJarren/58013-LinearAlgebra/blob/main/Lab3.ipynb\" target=\"_parent\"><img src=\"https://colab.research.google.com/assets/colab-badge.svg\" alt=\"Open In Colab\"/></a>"
      ]
    },
    {
      "cell_type": "markdown",
      "source": [
        "Vector Addition"
      ],
      "metadata": {
        "id": "vQqiD7SYQnV-"
      }
    },
    {
      "cell_type": "code",
      "execution_count": 2,
      "metadata": {
        "colab": {
          "base_uri": "https://localhost:8080/"
        },
        "id": "39t0fdxvQlOj",
        "outputId": "67557067-ef1d-424e-80a7-12a357ae5c9b"
      },
      "outputs": [
        {
          "output_type": "execute_result",
          "data": {
            "text/plain": [
              "2"
            ]
          },
          "metadata": {},
          "execution_count": 2
        }
      ],
      "source": [
        "import numpy as np\n",
        "\n",
        "A = np.array([1,2,0])\n",
        "B = np.array([3,1,-2])\n",
        "C = np.array([0,0,1])\n",
        "\n",
        "A+B+C\n",
        "\n",
        "np.add(A,np.add(B,C))\n",
        "\n",
        "np.sum(B)"
      ]
    },
    {
      "cell_type": "markdown",
      "source": [
        "Vector Subtraction"
      ],
      "metadata": {
        "id": "vb0RtJ-MRJeO"
      }
    },
    {
      "cell_type": "code",
      "source": [
        "np.subtract(A,B)\n",
        "\n",
        "A-B"
      ],
      "metadata": {
        "colab": {
          "base_uri": "https://localhost:8080/"
        },
        "id": "6Q7S_NFnRMjm",
        "outputId": "9e27145d-bb8b-4167-fef9-dd599cb14c54"
      },
      "execution_count": 3,
      "outputs": [
        {
          "output_type": "execute_result",
          "data": {
            "text/plain": [
              "array([-2,  1,  2])"
            ]
          },
          "metadata": {},
          "execution_count": 3
        }
      ]
    },
    {
      "cell_type": "markdown",
      "source": [
        "Vector Multiplication"
      ],
      "metadata": {
        "id": "zzFtlLwBROwN"
      }
    },
    {
      "cell_type": "code",
      "source": [
        "np.multiply(A,B)\n",
        "\n",
        "A*B"
      ],
      "metadata": {
        "colab": {
          "base_uri": "https://localhost:8080/"
        },
        "id": "bunI9kCNRW99",
        "outputId": "80b0c3b3-96f5-4d2d-b3c0-fd36399b5318"
      },
      "execution_count": 4,
      "outputs": [
        {
          "output_type": "execute_result",
          "data": {
            "text/plain": [
              "array([3, 2, 0])"
            ]
          },
          "metadata": {},
          "execution_count": 4
        }
      ]
    },
    {
      "cell_type": "markdown",
      "source": [
        "Vector Division"
      ],
      "metadata": {
        "id": "ftNPMWEuRYpd"
      }
    },
    {
      "cell_type": "code",
      "source": [
        "np.divide(A,B)\n",
        "\n",
        "A/B\n",
        "\n",
        "C = np.array([3.9,1.8,7.7])\n",
        "D = np.array([1,1,1])\n",
        "C//D\n",
        "\n",
        "np.array(A/B,dtype=int)"
      ],
      "metadata": {
        "colab": {
          "base_uri": "https://localhost:8080/"
        },
        "id": "yfip9WhOReJ9",
        "outputId": "aa828405-918f-4228-8f3e-8f80eda1e61a"
      },
      "execution_count": 5,
      "outputs": [
        {
          "output_type": "execute_result",
          "data": {
            "text/plain": [
              "array([0, 2, 0])"
            ]
          },
          "metadata": {},
          "execution_count": 5
        }
      ]
    }
  ]
}